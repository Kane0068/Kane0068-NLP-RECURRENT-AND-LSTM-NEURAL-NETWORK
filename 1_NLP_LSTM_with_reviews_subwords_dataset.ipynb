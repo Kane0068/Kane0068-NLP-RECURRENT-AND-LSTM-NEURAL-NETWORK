{
  "nbformat": 4,
  "nbformat_minor": 0,
  "metadata": {
    "colab": {
      "provenance": [],
      "authorship_tag": "ABX9TyODldW281vU1UoCiC6NnF/S"
    },
    "kernelspec": {
      "name": "python3",
      "display_name": "Python 3"
    },
    "language_info": {
      "name": "python"
    },
    "accelerator": "GPU",
    "gpuClass": "standard"
  },
  "cells": [
    {
      "cell_type": "markdown",
      "source": [
        "## Yol Haritası\n",
        "\n",
        "1. Dataset(Amazon ve Yelpten) içeri aktarılacak\n",
        "2. sentence and labels olmak üzere liste düzenlenecek\n",
        "3. tensorflow_dataset ' den SubwordTextEncoder yardımıyla kelimelerin encode edilmesi yapılacak\n",
        "4. padding ve truncate işlemleri yapılacak\n",
        "5. train test setleri oluşturulacak\n",
        "6. standart GlobalAveragePooling1D ile ve EMbedding ile bir model oluşturulacak\n",
        "7. Görselleştirilip tahmin performansı incelenecek\n",
        "8. Modeli çift yönlü LSTM kullanarak tekrar oluşturacaz\n",
        "9. Sonuçtaki değişikleri inceleyecez"
      ],
      "metadata": {
        "id": "yhCeboAUKQ1t"
      }
    },
    {
      "cell_type": "markdown",
      "source": [
        "##1-İMPORTİNG LİBRARİES"
      ],
      "metadata": {
        "id": "Hlb8izkZQjZl"
      }
    },
    {
      "cell_type": "code",
      "source": [
        "#pandas and numpy\n",
        "import pandas as pd\n",
        "import numpy as np\n",
        "\n",
        "# import pyplot\n",
        "import matplotlib.pyplot as plt\n",
        "\n",
        "# import tensorflow\n",
        "import tensorflow as tf\n",
        "from tensorflow.keras.preprocessing.sequence import pad_sequences\n",
        "\n",
        "# import tfds\n",
        "import tensorflow_datasets as tfds"
      ],
      "metadata": {
        "id": "eiF0-emnQjcB"
      },
      "execution_count": 3,
      "outputs": []
    },
    {
      "cell_type": "markdown",
      "source": [
        "##2-Get The Dataset"
      ],
      "metadata": {
        "id": "Ed-ZPBzlQjef"
      }
    },
    {
      "cell_type": "code",
      "source": [
        "!wget --no-check-certificate \\\n",
        "    https://drive.google.com/uc?id=13ySLC_ue6Umt9RJYSeM2t-V0kCv-4C-P -O /tmp/sentiment.csv"
      ],
      "metadata": {
        "id": "AEbWqOipQjg8"
      },
      "execution_count": null,
      "outputs": []
    },
    {
      "cell_type": "code",
      "source": [
        "dataset = pd.read_csv('/tmp/sentiment.csv')\n",
        "\n",
        "sentences = dataset['text'].tolist()\n",
        "labels = dataset['sentiment'].tolist()"
      ],
      "metadata": {
        "id": "6q4GmJT8QjjQ"
      },
      "execution_count": 7,
      "outputs": []
    },
    {
      "cell_type": "code",
      "source": [
        "# Bazılarını görelim\n",
        "for x in range(2):\n",
        "  print(sentences[x])\n",
        "  print(labels[x])\n",
        "  print('\\n')"
      ],
      "metadata": {
        "colab": {
          "base_uri": "https://localhost:8080/"
        },
        "id": "eYG6xFgeQjlo",
        "outputId": "48dd8afb-447a-41cd-b206-5250e90297e8"
      },
      "execution_count": 8,
      "outputs": [
        {
          "output_type": "stream",
          "name": "stdout",
          "text": [
            "So there is no way for me to plug it in here in the US unless I go by a converter.\n",
            "0\n",
            "\n",
            "\n",
            "Good case Excellent value.\n",
            "1\n",
            "\n",
            "\n"
          ]
        }
      ]
    },
    {
      "cell_type": "markdown",
      "source": [
        "##3-Create a subwords dataset\n",
        " * tensorflow_datasets den SubwordTextEncoder.build_from_corpus() kullanılarak bir tokenize işlemi yapacaz\n",
        " * En Yaygın 1000 kelime alınacak(numara verilecek)\n",
        " * Bir kelime en fazla 5 alt kelime kesilecek"
      ],
      "metadata": {
        "id": "qgVDCs1NQjn4"
      }
    },
    {
      "cell_type": "code",
      "source": [
        "vocab_size = 1000 # en yaygın 1000 kelime numaralandır\n",
        "\n",
        "tokenizer  = tfds.deprecated.text.SubwordTextEncoder.build_from_corpus(sentences,vocab_size,max_subword_length=5)\n",
        "\n",
        "# bakalım kaç adet numaralandırma yapmış\n",
        "print('Vocab size is' , tokenizer.vocab_size)"
      ],
      "metadata": {
        "colab": {
          "base_uri": "https://localhost:8080/"
        },
        "id": "E79Qw_Z1Qjp_",
        "outputId": "4c2c9543-c8bd-4ea1-dac7-0c6d1a3597b1"
      },
      "execution_count": 10,
      "outputs": [
        {
          "output_type": "stream",
          "name": "stdout",
          "text": [
            "Vocab size is 999\n"
          ]
        }
      ]
    },
    {
      "cell_type": "code",
      "source": [
        "# encode işlemini kontrol edelim\n",
        "num = 5\n",
        "print(sentences[num])\n",
        "encoded = tokenizer.encode(sentences[num])\n",
        "print(encoded)"
      ],
      "metadata": {
        "colab": {
          "base_uri": "https://localhost:8080/"
        },
        "id": "16TKEwO1Qjse",
        "outputId": "92b67142-2de2-4299-ae26-c0aa9a328c93"
      },
      "execution_count": 11,
      "outputs": [
        {
          "output_type": "stream",
          "name": "stdout",
          "text": [
            "I have to jiggle the plug to get it to line up right to get decent volume.\n",
            "[4, 31, 6, 849, 162, 450, 12, 1, 600, 438, 775, 6, 175, 14, 6, 55, 213, 159, 474, 775, 6, 175, 614, 380, 295, 148, 72, 789]\n"
          ]
        }
      ]
    },
    {
      "cell_type": "code",
      "source": [
        "# kodu çözerek alt kelimeleri ayrı ayrı görelim\n",
        "for i in encoded:\n",
        "  print(tokenizer.decode([i]))"
      ],
      "metadata": {
        "colab": {
          "base_uri": "https://localhost:8080/"
        },
        "id": "qG3Tc9rVQjuq",
        "outputId": "11f146d8-ba98-40c1-8ed6-b10b68c72de8"
      },
      "execution_count": 12,
      "outputs": [
        {
          "output_type": "stream",
          "name": "stdout",
          "text": [
            "I \n",
            "have \n",
            "to \n",
            "j\n",
            "ig\n",
            "gl\n",
            "e \n",
            "the \n",
            "pl\n",
            "ug\n",
            " \n",
            "to \n",
            "get \n",
            "it \n",
            "to \n",
            "li\n",
            "ne \n",
            "up \n",
            "right\n",
            " \n",
            "to \n",
            "get \n",
            "dec\n",
            "ent \n",
            "vo\n",
            "lu\n",
            "me\n",
            ".\n"
          ]
        }
      ]
    },
    {
      "cell_type": "markdown",
      "source": [
        "##4-Replace sentence data with encoded subwords"
      ],
      "metadata": {
        "id": "w6ZuiKvlV-vm"
      }
    },
    {
      "cell_type": "code",
      "source": [
        "# Her Bİr cümleyi kodlamış olduğumuz alt kelimeleri kullanarak encode işlemi yapalım(cümle içindeki kelimeleri değiştirecez)\n",
        "for i , sentence in enumerate(sentences):\n",
        "  sentences[i] = tokenizer.encode(sentence)"
      ],
      "metadata": {
        "id": "fEw9nRYYQjwx"
      },
      "execution_count": null,
      "outputs": []
    },
    {
      "cell_type": "code",
      "source": [
        "# Kontrol edelim\n",
        "print(sentences[10])"
      ],
      "metadata": {
        "colab": {
          "base_uri": "https://localhost:8080/"
        },
        "id": "q9MQNL70VLvz",
        "outputId": "c7da21a9-2cba-40a9-e726-5435fbe19351"
      },
      "execution_count": 16,
      "outputs": [
        {
          "output_type": "stream",
          "name": "stdout",
          "text": [
            "[435, 11, 1, 170, 775, 113, 112, 7, 35, 789]\n"
          ]
        }
      ]
    },
    {
      "cell_type": "markdown",
      "source": [
        "## 5 - Padding_truncate opereations"
      ],
      "metadata": {
        "id": "q7r6LU8pVLyJ"
      }
    },
    {
      "cell_type": "code",
      "source": [
        "max_length = 50\n",
        "trunc_type = 'post'\n",
        "padding_type = 'post'\n",
        "\n",
        "# padding and truncating\n",
        "sequences_padded = pad_sequences(sentences,maxlen = max_length,padding= padding_type,truncating= trunc_type)"
      ],
      "metadata": {
        "id": "9resgTOGWL_N"
      },
      "execution_count": 17,
      "outputs": []
    },
    {
      "cell_type": "markdown",
      "source": [
        "##6-Train  Test Sets Create"
      ],
      "metadata": {
        "id": "O832raOmWMAA"
      }
    },
    {
      "cell_type": "code",
      "source": [
        "training_size = int(len(sentences) * 0.8)\n",
        "\n",
        "training_sequences = sequences_padded[:training_size]\n",
        "testing_sequences = sequences_padded[training_size:]\n",
        "\n",
        "training_labels = labels[:training_size]\n",
        "testing_labels = labels[training_size:]\n",
        "\n",
        "# Sonrası için numpy dizileri\n",
        "training_labels_final = np.array(training_labels)\n",
        "testing_labels_final = np.array(testing_labels)"
      ],
      "metadata": {
        "id": "b2IliVIHWMAz"
      },
      "execution_count": 18,
      "outputs": []
    },
    {
      "cell_type": "markdown",
      "source": [
        "##7- Create First Model With Embeddings"
      ],
      "metadata": {
        "id": "MXlnt2pPWMEL"
      }
    },
    {
      "cell_type": "code",
      "source": [
        "embedding_dim = 16\n",
        "\n",
        "model = tf.keras.Sequential([\n",
        "    tf.keras.layers.Embedding(vocab_size,embedding_dim,input_length=max_length),\n",
        "    tf.keras.layers.GlobalAveragePooling1D(),\n",
        "    tf.keras.layers.Dense(6,activation = 'relu'),\n",
        "    tf.keras.layers.Dense(1,activation = 'sigmoid')\n",
        "])\n",
        "\n",
        "model.summary()"
      ],
      "metadata": {
        "colab": {
          "base_uri": "https://localhost:8080/"
        },
        "id": "RNpAwxEfWMFB",
        "outputId": "b58f0e3c-8966-4be1-a385-8fe71a4cee16"
      },
      "execution_count": 19,
      "outputs": [
        {
          "output_type": "stream",
          "name": "stdout",
          "text": [
            "Model: \"sequential\"\n",
            "_________________________________________________________________\n",
            " Layer (type)                Output Shape              Param #   \n",
            "=================================================================\n",
            " embedding (Embedding)       (None, 50, 16)            16000     \n",
            "                                                                 \n",
            " global_average_pooling1d (G  (None, 16)               0         \n",
            " lobalAveragePooling1D)                                          \n",
            "                                                                 \n",
            " dense (Dense)               (None, 6)                 102       \n",
            "                                                                 \n",
            " dense_1 (Dense)             (None, 1)                 7         \n",
            "                                                                 \n",
            "=================================================================\n",
            "Total params: 16,109\n",
            "Trainable params: 16,109\n",
            "Non-trainable params: 0\n",
            "_________________________________________________________________\n"
          ]
        }
      ]
    },
    {
      "cell_type": "code",
      "source": [
        "# model compile and fit\n",
        "\n",
        "model.compile(\n",
        "    loss = 'binary_crossentropy',\n",
        "    optimizer = 'adam',\n",
        "    metrics = ['accuracy']\n",
        ")\n",
        "\n",
        "num_epoch = 30\n",
        "history = model.fit(\n",
        "    training_sequences,\n",
        "    training_labels_final,\n",
        "    epochs = num_epoch,\n",
        "    validation_data = (testing_sequences,testing_labels_final)\n",
        ")"
      ],
      "metadata": {
        "colab": {
          "base_uri": "https://localhost:8080/"
        },
        "id": "R0XlpgFnWMFz",
        "outputId": "0c8e25fc-1331-4c46-c649-9d54531d3620"
      },
      "execution_count": 32,
      "outputs": [
        {
          "output_type": "stream",
          "name": "stdout",
          "text": [
            "Epoch 1/30\n",
            "50/50 [==============================] - 5s 82ms/step - loss: 0.0602 - accuracy: 0.9893 - val_loss: 1.0266 - val_accuracy: 0.7469\n",
            "Epoch 2/30\n",
            "50/50 [==============================] - 2s 48ms/step - loss: 0.0567 - accuracy: 0.9887 - val_loss: 1.0452 - val_accuracy: 0.7444\n",
            "Epoch 3/30\n",
            "50/50 [==============================] - 4s 77ms/step - loss: 0.0551 - accuracy: 0.9900 - val_loss: 1.0586 - val_accuracy: 0.7419\n",
            "Epoch 4/30\n",
            "50/50 [==============================] - 2s 40ms/step - loss: 0.0523 - accuracy: 0.9893 - val_loss: 1.0722 - val_accuracy: 0.7368\n",
            "Epoch 5/30\n",
            "50/50 [==============================] - 1s 28ms/step - loss: 0.0529 - accuracy: 0.9900 - val_loss: 1.0938 - val_accuracy: 0.7393\n",
            "Epoch 6/30\n",
            "50/50 [==============================] - 1s 18ms/step - loss: 0.0497 - accuracy: 0.9912 - val_loss: 1.1064 - val_accuracy: 0.7393\n",
            "Epoch 7/30\n",
            "50/50 [==============================] - 1s 19ms/step - loss: 0.0467 - accuracy: 0.9918 - val_loss: 1.1229 - val_accuracy: 0.7318\n",
            "Epoch 8/30\n",
            "50/50 [==============================] - 1s 20ms/step - loss: 0.0452 - accuracy: 0.9906 - val_loss: 1.1386 - val_accuracy: 0.7343\n",
            "Epoch 9/30\n",
            "50/50 [==============================] - 1s 11ms/step - loss: 0.0437 - accuracy: 0.9925 - val_loss: 1.1570 - val_accuracy: 0.7368\n",
            "Epoch 10/30\n",
            "50/50 [==============================] - 1s 13ms/step - loss: 0.0421 - accuracy: 0.9944 - val_loss: 1.1695 - val_accuracy: 0.7393\n",
            "Epoch 11/30\n",
            "50/50 [==============================] - 1s 11ms/step - loss: 0.0411 - accuracy: 0.9944 - val_loss: 1.1858 - val_accuracy: 0.7343\n",
            "Epoch 12/30\n",
            "50/50 [==============================] - 1s 10ms/step - loss: 0.0388 - accuracy: 0.9950 - val_loss: 1.2094 - val_accuracy: 0.7444\n",
            "Epoch 13/30\n",
            "50/50 [==============================] - 0s 7ms/step - loss: 0.0392 - accuracy: 0.9931 - val_loss: 1.2175 - val_accuracy: 0.7444\n",
            "Epoch 14/30\n",
            "50/50 [==============================] - 1s 10ms/step - loss: 0.0371 - accuracy: 0.9944 - val_loss: 1.2344 - val_accuracy: 0.7469\n",
            "Epoch 15/30\n",
            "50/50 [==============================] - 0s 9ms/step - loss: 0.0360 - accuracy: 0.9950 - val_loss: 1.2452 - val_accuracy: 0.7444\n",
            "Epoch 16/30\n",
            "50/50 [==============================] - 0s 5ms/step - loss: 0.0341 - accuracy: 0.9950 - val_loss: 1.2568 - val_accuracy: 0.7343\n",
            "Epoch 17/30\n",
            "50/50 [==============================] - 0s 9ms/step - loss: 0.0333 - accuracy: 0.9962 - val_loss: 1.2779 - val_accuracy: 0.7419\n",
            "Epoch 18/30\n",
            "50/50 [==============================] - 0s 7ms/step - loss: 0.0316 - accuracy: 0.9962 - val_loss: 1.2991 - val_accuracy: 0.7444\n",
            "Epoch 19/30\n",
            "50/50 [==============================] - 0s 9ms/step - loss: 0.0311 - accuracy: 0.9956 - val_loss: 1.3245 - val_accuracy: 0.7469\n",
            "Epoch 20/30\n",
            "50/50 [==============================] - 0s 8ms/step - loss: 0.0303 - accuracy: 0.9950 - val_loss: 1.3251 - val_accuracy: 0.7368\n",
            "Epoch 21/30\n",
            "50/50 [==============================] - 1s 10ms/step - loss: 0.0296 - accuracy: 0.9969 - val_loss: 1.3408 - val_accuracy: 0.7444\n",
            "Epoch 22/30\n",
            "50/50 [==============================] - 1s 11ms/step - loss: 0.0284 - accuracy: 0.9969 - val_loss: 1.3511 - val_accuracy: 0.7419\n",
            "Epoch 23/30\n",
            "50/50 [==============================] - 0s 7ms/step - loss: 0.0274 - accuracy: 0.9975 - val_loss: 1.3875 - val_accuracy: 0.7494\n",
            "Epoch 24/30\n",
            "50/50 [==============================] - 0s 8ms/step - loss: 0.0260 - accuracy: 0.9975 - val_loss: 1.3909 - val_accuracy: 0.7419\n",
            "Epoch 25/30\n",
            "50/50 [==============================] - 0s 4ms/step - loss: 0.0243 - accuracy: 0.9975 - val_loss: 1.4064 - val_accuracy: 0.7444\n",
            "Epoch 26/30\n",
            "50/50 [==============================] - 0s 8ms/step - loss: 0.0228 - accuracy: 0.9975 - val_loss: 1.4245 - val_accuracy: 0.7494\n",
            "Epoch 27/30\n",
            "50/50 [==============================] - 0s 5ms/step - loss: 0.0207 - accuracy: 0.9975 - val_loss: 1.4366 - val_accuracy: 0.7419\n",
            "Epoch 28/30\n",
            "50/50 [==============================] - 0s 7ms/step - loss: 0.0208 - accuracy: 0.9981 - val_loss: 1.4613 - val_accuracy: 0.7569\n",
            "Epoch 29/30\n",
            "50/50 [==============================] - 0s 9ms/step - loss: 0.0189 - accuracy: 0.9981 - val_loss: 1.4842 - val_accuracy: 0.7544\n",
            "Epoch 30/30\n",
            "50/50 [==============================] - 0s 8ms/step - loss: 0.0167 - accuracy: 0.9987 - val_loss: 1.4969 - val_accuracy: 0.7419\n"
          ]
        }
      ]
    },
    {
      "cell_type": "markdown",
      "source": [
        "##8 - Visualize epoch and accuracy"
      ],
      "metadata": {
        "id": "SV0CufP-WMIv"
      }
    },
    {
      "cell_type": "code",
      "source": [
        "import matplotlib.pyplot as plt\n",
        "\n",
        "\n",
        "def plot_graphs(history, string):\n",
        "  plt.plot(history.history[string])\n",
        "  plt.plot(history.history['val_'+string])\n",
        "  plt.xlabel(\"Epochs\")\n",
        "  plt.ylabel(string)\n",
        "  plt.legend([string, 'val_'+string])\n",
        "  plt.show()\n",
        "  \n",
        "plot_graphs(history, \"accuracy\")\n",
        "plot_graphs(history, \"loss\")"
      ],
      "metadata": {
        "colab": {
          "base_uri": "https://localhost:8080/",
          "height": 543
        },
        "id": "CO2x8I5pWMJn",
        "outputId": "10c3108f-e9e3-445e-8ce6-45abffbb0f77"
      },
      "execution_count": 23,
      "outputs": [
        {
          "output_type": "display_data",
          "data": {
            "text/plain": [
              "<Figure size 432x288 with 1 Axes>"
            ],
            "image/png": "[encoded data removed]"
          },
          "metadata": {
            "needs_background": "light"
          }
        },
        {
          "output_type": "display_data",
          "data": {
            "text/plain": [
              "<Figure size 432x288 with 1 Axes>"
            ],
            "image/png": "[encoded data removed]"
          },
          "metadata": {
            "needs_background": "light"
          }
        }
      ]
    },
    {
      "cell_type": "markdown",
      "source": [
        "##9-İlerdede kullanmak üzere define a function to predict the sentiment of reviews"
      ],
      "metadata": {
        "id": "_0Dh3BmKWMKh"
      }
    },
    {
      "cell_type": "code",
      "source": [
        "def predict_review(model,new_sentences,maxlen = max_length,show_padded_sequences = True):\n",
        "  \n",
        "  # kodlanmış verileri saklamak için;\n",
        "  new_sequences = []\n",
        "\n",
        "  # gelen cümleyi convert to sequences işlemi \n",
        "  for i,new_senten in enumerate(new_sentences):\n",
        "    new_sequences.append(tokenizer.encode(new_senten))\n",
        "\n",
        "  # padding and truncate\n",
        "  new_sequences_padded = pad_sequences(new_sequences,maxlen = max_length,padding='post',truncating = 'post')\n",
        "\n",
        "  # predict \n",
        "  classes = model.predict(new_sequences_padded)\n",
        "\n",
        "  # Sonucu görmemiz için;\n",
        "  for x in range(len(new_sentences)): \n",
        "    if(show_padded_sequences): \n",
        "      print(new_sequences_padded[x]) # istenirse encode halini görebileceğimiz\n",
        "    print(new_sentences[x])  # istenirse ilk halini görebileceğimiz\n",
        "\n",
        "    print(classes[x]) # Predict \n",
        "    print('\\n')\n"
      ],
      "metadata": {
        "id": "vbgcF-KgaK-C"
      },
      "execution_count": 25,
      "outputs": []
    },
    {
      "cell_type": "markdown",
      "source": [
        "# 10- Use the model predict some reviews"
      ],
      "metadata": {
        "id": "5HFoxT0BaLAJ"
      }
    },
    {
      "cell_type": "code",
      "source": [
        "fake_reviews = [\"I love this phone\", \n",
        "                \"Everything was cold\",\n",
        "                \"Everything was hot exactly as I wanted\", \n",
        "                \"Everything was green\", \n",
        "                \"the host seated us immediately\",\n",
        "                \"they gave us free chocolate cake\", \n",
        "                \"we couldn't hear each other talk because of the shouting in the kitchen\"\n",
        "              ]\n",
        "\n",
        "predict_review(model,fake_reviews,show_padded_sequences=False)"
      ],
      "metadata": {
        "colab": {
          "base_uri": "https://localhost:8080/"
        },
        "id": "7QlIebZSaLC0",
        "outputId": "24fe258e-2b0b-46c4-9d82-58ebbe41d319"
      },
      "execution_count": 27,
      "outputs": [
        {
          "output_type": "stream",
          "name": "stdout",
          "text": [
            "1/1 [==============================] - 0s 41ms/step\n",
            "I love this phone\n",
            "[0.9912509]\n",
            "\n",
            "\n",
            "Everything was cold\n",
            "[0.00235013]\n",
            "\n",
            "\n",
            "Everything was hot exactly as I wanted\n",
            "[0.3266157]\n",
            "\n",
            "\n",
            "Everything was green\n",
            "[0.00803414]\n",
            "\n",
            "\n",
            "the host seated us immediately\n",
            "[0.97993326]\n",
            "\n",
            "\n",
            "they gave us free chocolate cake\n",
            "[0.8903364]\n",
            "\n",
            "\n",
            "we couldn't hear each other talk because of the shouting in the kitchen\n",
            "[0.0003157]\n",
            "\n",
            "\n"
          ]
        }
      ]
    },
    {
      "cell_type": "markdown",
      "source": [
        "##11-Define a function to train and show the results of models with different layers\n",
        " * Farklı katmanlara sahip modelleri eğitecez ve görselleştirecez\n",
        " * Bunu otomatikleştimek için bir kaç tane fonksiyon tanımlayacaz"
      ],
      "metadata": {
        "id": "sVZwPXv8aLFM"
      }
    },
    {
      "cell_type": "code",
      "source": [
        "# Eğitim için fonksiyon\n",
        "def fit_model(model,sentences):\n",
        "  model.compile(loss = 'binary_crossentropy',optimizer = 'adam',metrics = ['accuracy'])\n",
        "  model.summary()\n",
        "  history = model.fit(\n",
        "      training_sequences,\n",
        "      training_labels_final,\n",
        "      epochs=num_epoch,\n",
        "      validation_data = (testing_sequences,testing_labels_final)\n",
        "  )\n",
        "  return history\n",
        "\n",
        "\n",
        "# For the Visualize\n",
        "def plot_results (history):\n",
        "  plot_graphs(history, \"accuracy\")\n",
        "  plot_graphs(history, \"loss\")\n",
        "\n",
        "#İkisini birleştireliö\n",
        "def fit_model_and_show_results (model, sentences):\n",
        "  history = fit_model(model, sentences)\n",
        "  plot_results(history)\n",
        "  predict_review(model, sentences)"
      ],
      "metadata": {
        "id": "agg-pJybaLHh"
      },
      "execution_count": 36,
      "outputs": []
    },
    {
      "cell_type": "markdown",
      "source": [
        "##12-Add a bidirectional LSTM\n",
        "\n",
        "  * Çift Yönlü model oluşturalım\n",
        "\n"
      ],
      "metadata": {
        "id": "AfDT7U_taLJ3"
      }
    },
    {
      "cell_type": "code",
      "source": [
        "model_bidi_lstm = tf.keras.Sequential([\n",
        "    tf.keras.layers.Embedding(vocab_size,embedding_dim,input_length = max_length),\n",
        "    tf.keras.layers.Bidirectional(tf.keras.layers.LSTM(embedding_dim)),\n",
        "    tf.keras.layers.Dense(6,activation='relu'),\n",
        "    tf.keras.layers.Dense(1,activation = 'sigmoid')\n",
        "])\n",
        "\n",
        "fit_model_and_show_results(model_bidi_lstm,fake_reviews)"
      ],
      "metadata": {
        "colab": {
          "base_uri": "https://localhost:8080/",
          "height": 1000
        },
        "id": "mhyzZGyQaLMP",
        "outputId": "1c4cbe39-b371-4dc4-a5a5-87fef92efabb"
      },
      "execution_count": 37,
      "outputs": [
        {
          "output_type": "stream",
          "name": "stdout",
          "text": [
            "Model: \"sequential_4\"\n",
            "_________________________________________________________________\n",
            " Layer (type)                Output Shape              Param #   \n",
            "=================================================================\n",
            " embedding_5 (Embedding)     (None, 50, 16)            16000     \n",
            "                                                                 \n",
            " bidirectional_6 (Bidirectio  (None, 32)               4224      \n",
            " nal)                                                            \n",
            "                                                                 \n",
            " dense_8 (Dense)             (None, 6)                 198       \n",
            "                                                                 \n",
            " dense_9 (Dense)             (None, 1)                 7         \n",
            "                                                                 \n",
            "=================================================================\n",
            "Total params: 20,429\n",
            "Trainable params: 20,429\n",
            "Non-trainable params: 0\n",
            "_________________________________________________________________\n",
            "Epoch 1/30\n",
            "50/50 [==============================] - 11s 145ms/step - loss: 0.6910 - accuracy: 0.5210 - val_loss: 0.6986 - val_accuracy: 0.4110\n",
            "Epoch 2/30\n",
            "50/50 [==============================] - 3s 54ms/step - loss: 0.6591 - accuracy: 0.5995 - val_loss: 0.6331 - val_accuracy: 0.6942\n",
            "Epoch 3/30\n",
            "50/50 [==============================] - 2s 37ms/step - loss: 0.5110 - accuracy: 0.7859 - val_loss: 0.5032 - val_accuracy: 0.7845\n",
            "Epoch 4/30\n",
            "50/50 [==============================] - 1s 22ms/step - loss: 0.3742 - accuracy: 0.8550 - val_loss: 0.5128 - val_accuracy: 0.7794\n",
            "Epoch 5/30\n",
            "50/50 [==============================] - 1s 23ms/step - loss: 0.2817 - accuracy: 0.8989 - val_loss: 0.5759 - val_accuracy: 0.7519\n",
            "Epoch 6/30\n",
            "50/50 [==============================] - 2s 39ms/step - loss: 0.2261 - accuracy: 0.9209 - val_loss: 0.5612 - val_accuracy: 0.7644\n",
            "Epoch 7/30\n",
            "50/50 [==============================] - 1s 18ms/step - loss: 0.1809 - accuracy: 0.9429 - val_loss: 0.6606 - val_accuracy: 0.7544\n",
            "Epoch 8/30\n",
            "50/50 [==============================] - 1s 20ms/step - loss: 0.1637 - accuracy: 0.9498 - val_loss: 0.8184 - val_accuracy: 0.7494\n",
            "Epoch 9/30\n",
            "50/50 [==============================] - 1s 15ms/step - loss: 0.1445 - accuracy: 0.9517 - val_loss: 0.9635 - val_accuracy: 0.7569\n",
            "Epoch 10/30\n",
            "50/50 [==============================] - 1s 14ms/step - loss: 0.1291 - accuracy: 0.9605 - val_loss: 0.7871 - val_accuracy: 0.7393\n",
            "Epoch 11/30\n",
            "50/50 [==============================] - 1s 14ms/step - loss: 0.0982 - accuracy: 0.9768 - val_loss: 0.9265 - val_accuracy: 0.7619\n",
            "Epoch 12/30\n",
            "50/50 [==============================] - 1s 16ms/step - loss: 0.0745 - accuracy: 0.9856 - val_loss: 0.9458 - val_accuracy: 0.7719\n",
            "Epoch 13/30\n",
            "50/50 [==============================] - 1s 14ms/step - loss: 0.0620 - accuracy: 0.9900 - val_loss: 0.9987 - val_accuracy: 0.7569\n",
            "Epoch 14/30\n",
            "50/50 [==============================] - 1s 17ms/step - loss: 0.0526 - accuracy: 0.9906 - val_loss: 1.0518 - val_accuracy: 0.7644\n",
            "Epoch 15/30\n",
            "50/50 [==============================] - 1s 18ms/step - loss: 0.0446 - accuracy: 0.9918 - val_loss: 1.2095 - val_accuracy: 0.7569\n",
            "Epoch 16/30\n",
            "50/50 [==============================] - 1s 16ms/step - loss: 0.0388 - accuracy: 0.9937 - val_loss: 1.2618 - val_accuracy: 0.7569\n",
            "Epoch 17/30\n",
            "50/50 [==============================] - 1s 14ms/step - loss: 0.0347 - accuracy: 0.9944 - val_loss: 1.2680 - val_accuracy: 0.7519\n",
            "Epoch 18/30\n",
            "50/50 [==============================] - 1s 13ms/step - loss: 0.0337 - accuracy: 0.9944 - val_loss: 1.3293 - val_accuracy: 0.7444\n",
            "Epoch 19/30\n",
            "50/50 [==============================] - 0s 9ms/step - loss: 0.0302 - accuracy: 0.9956 - val_loss: 1.3776 - val_accuracy: 0.7519\n",
            "Epoch 20/30\n",
            "50/50 [==============================] - 1s 21ms/step - loss: 0.0285 - accuracy: 0.9956 - val_loss: 1.4024 - val_accuracy: 0.7519\n",
            "Epoch 21/30\n",
            "50/50 [==============================] - 1s 18ms/step - loss: 0.0662 - accuracy: 0.9849 - val_loss: 1.0562 - val_accuracy: 0.7519\n",
            "Epoch 22/30\n",
            "50/50 [==============================] - 1s 12ms/step - loss: 0.1589 - accuracy: 0.9567 - val_loss: 0.8773 - val_accuracy: 0.7544\n",
            "Epoch 23/30\n",
            "50/50 [==============================] - 1s 12ms/step - loss: 0.0901 - accuracy: 0.9718 - val_loss: 1.0510 - val_accuracy: 0.7494\n",
            "Epoch 24/30\n",
            "50/50 [==============================] - 1s 12ms/step - loss: 0.0485 - accuracy: 0.9912 - val_loss: 1.0664 - val_accuracy: 0.7594\n",
            "Epoch 25/30\n",
            "50/50 [==============================] - 0s 10ms/step - loss: 0.0378 - accuracy: 0.9937 - val_loss: 1.1754 - val_accuracy: 0.7519\n",
            "Epoch 26/30\n",
            "50/50 [==============================] - 1s 12ms/step - loss: 0.0296 - accuracy: 0.9962 - val_loss: 1.2404 - val_accuracy: 0.7444\n",
            "Epoch 27/30\n",
            "50/50 [==============================] - 1s 10ms/step - loss: 0.0275 - accuracy: 0.9962 - val_loss: 1.2718 - val_accuracy: 0.7444\n",
            "Epoch 28/30\n",
            "50/50 [==============================] - 1s 12ms/step - loss: 0.0263 - accuracy: 0.9962 - val_loss: 1.2928 - val_accuracy: 0.7494\n",
            "Epoch 29/30\n",
            "50/50 [==============================] - 1s 14ms/step - loss: 0.0255 - accuracy: 0.9962 - val_loss: 1.3287 - val_accuracy: 0.7469\n",
            "Epoch 30/30\n",
            "50/50 [==============================] - 1s 12ms/step - loss: 0.0249 - accuracy: 0.9962 - val_loss: 1.3396 - val_accuracy: 0.7469\n"
          ]
        },
        {
          "output_type": "display_data",
          "data": {
            "text/plain": [
              "<Figure size 432x288 with 1 Axes>"
            ],
            "image/png": "[encoded data removed]"
          },
          "metadata": {
            "needs_background": "light"
          }
        },
        {
          "output_type": "display_data",
          "data": {
            "text/plain": [
              "<Figure size 432x288 with 1 Axes>"
            ],
            "image/png": "[encoded data removed]"
          },
          "metadata": {
            "needs_background": "light"
          }
        },
        {
          "output_type": "stream",
          "name": "stdout",
          "text": [
            "1/1 [==============================] - 1s 598ms/step\n",
            "[  4 281  16  25   0   0   0   0   0   0   0   0   0   0   0   0   0   0\n",
            "   0   0   0   0   0   0   0   0   0   0   0   0   0   0   0   0   0   0\n",
            "   0   0   0   0   0   0   0   0   0   0   0   0   0   0]\n",
            "I love this phone\n",
            "[0.99899834]\n",
            "\n",
            "\n",
            "[812 227 864 100 775   9 525 843   0   0   0   0   0   0   0   0   0   0\n",
            "   0   0   0   0   0   0   0   0   0   0   0   0   0   0   0   0   0   0\n",
            "   0   0   0   0   0   0   0   0   0   0   0   0   0   0]\n",
            "Everything was cold\n",
            "[0.0096774]\n",
            "\n",
            "\n",
            "[812 227 864 100 775   9 109   8 333 731  24  61   4 171  59  77   0   0\n",
            "   0   0   0   0   0   0   0   0   0   0   0   0   0   0   0   0   0   0\n",
            "   0   0   0   0   0   0   0   0   0   0   0   0   0   0]\n",
            "Everything was hot exactly as I wanted\n",
            "[0.5473327]\n",
            "\n",
            "\n",
            "[812 227 864 100 775   9 157 359 853   0   0   0   0   0   0   0   0   0\n",
            "   0   0   0   0   0   0   0   0   0   0   0   0   0   0   0   0   0   0\n",
            "   0   0   0   0   0   0   0   0   0   0   0   0   0   0]\n",
            "Everything was green\n",
            "[0.01252855]\n",
            "\n",
            "\n",
            "[  1 109 228 540 237 635 241 423 340  89 298   0   0   0   0   0   0   0\n",
            "   0   0   0   0   0   0   0   0   0   0   0   0   0   0   0   0   0   0\n",
            "   0   0   0   0   0   0   0   0   0   0   0   0   0   0]\n",
            "the host seated us immediately\n",
            "[0.99941564]\n",
            "\n",
            "\n",
            "[154 242  47 635 341  12 569 547 147 319 775 125  85   0   0   0   0   0\n",
            "   0   0   0   0   0   0   0   0   0   0   0   0   0   0   0   0   0   0\n",
            "   0   0   0   0   0   0   0   0   0   0   0   0   0   0]\n",
            "they gave us free chocolate cake\n",
            "[0.5552742]\n",
            "\n",
            "\n",
            "[158 190 853 782   8 607 775 210 232 146 775 470  67 305 101  15   1 328\n",
            " 296  26  19   1 661 641 195   0   0   0   0   0   0   0   0   0   0   0\n",
            "   0   0   0   0   0   0   0   0   0   0   0   0   0   0]\n",
            "we couldn't hear each other talk because of the shouting in the kitchen\n",
            "[0.00632541]\n",
            "\n",
            "\n"
          ]
        }
      ]
    },
    {
      "cell_type": "markdown",
      "source": [
        "##13-Use multiple bidirectional layers\n",
        "  * Çoklu Çift Yönlü LSTM Model oluşturalım"
      ],
      "metadata": {
        "id": "JTee0lTbaLOd"
      }
    },
    {
      "cell_type": "code",
      "source": [
        "model_multiple_bidi_lstm = tf.keras.Sequential([\n",
        "    tf.keras.layers.Embedding(vocab_size,embedding_dim,input_length=max_length),\n",
        "    tf.keras.layers.Bidirectional(tf.keras.layers.LSTM(embedding_dim,\n",
        "                                                       return_sequences=True)),\n",
        "    tf.keras.layers.Bidirectional(tf.keras.layers.LSTM(embedding_dim)),\n",
        "    tf.keras.layers.Dense(6,activation='relu'),\n",
        "    tf.keras.layers.Dense(1,activation = 'sigmoid')\n",
        "])\n",
        "\n",
        "fit_model_and_show_results(model_multiple_bidi_lstm,fake_reviews)"
      ],
      "metadata": {
        "colab": {
          "base_uri": "https://localhost:8080/",
          "height": 1000
        },
        "id": "P3YY-efxkv_F",
        "outputId": "5742a4fd-3518-4cf5-ab14-17d491a67251"
      },
      "execution_count": 38,
      "outputs": [
        {
          "output_type": "stream",
          "name": "stdout",
          "text": [
            "Model: \"sequential_5\"\n",
            "_________________________________________________________________\n",
            " Layer (type)                Output Shape              Param #   \n",
            "=================================================================\n",
            " embedding_6 (Embedding)     (None, 50, 16)            16000     \n",
            "                                                                 \n",
            " bidirectional_7 (Bidirectio  (None, 50, 32)           4224      \n",
            " nal)                                                            \n",
            "                                                                 \n",
            " bidirectional_8 (Bidirectio  (None, 32)               6272      \n",
            " nal)                                                            \n",
            "                                                                 \n",
            " dense_10 (Dense)            (None, 6)                 198       \n",
            "                                                                 \n",
            " dense_11 (Dense)            (None, 1)                 7         \n",
            "                                                                 \n",
            "=================================================================\n",
            "Total params: 26,701\n",
            "Trainable params: 26,701\n",
            "Non-trainable params: 0\n",
            "_________________________________________________________________\n",
            "Epoch 1/30\n",
            "50/50 [==============================] - 14s 135ms/step - loss: 0.6921 - accuracy: 0.5166 - val_loss: 0.6995 - val_accuracy: 0.4110\n",
            "Epoch 2/30\n",
            "50/50 [==============================] - 3s 63ms/step - loss: 0.6559 - accuracy: 0.5669 - val_loss: 0.6004 - val_accuracy: 0.7569\n",
            "Epoch 3/30\n",
            "50/50 [==============================] - 2s 43ms/step - loss: 0.4742 - accuracy: 0.8029 - val_loss: 0.5120 - val_accuracy: 0.7669\n",
            "Epoch 4/30\n",
            "50/50 [==============================] - 2s 37ms/step - loss: 0.3449 - accuracy: 0.8682 - val_loss: 0.5604 - val_accuracy: 0.7343\n",
            "Epoch 5/30\n",
            "50/50 [==============================] - 1s 24ms/step - loss: 0.2961 - accuracy: 0.8914 - val_loss: 0.5332 - val_accuracy: 0.7769\n",
            "Epoch 6/30\n",
            "50/50 [==============================] - 1s 20ms/step - loss: 0.2310 - accuracy: 0.9222 - val_loss: 0.6370 - val_accuracy: 0.7143\n",
            "Epoch 7/30\n",
            "50/50 [==============================] - 2s 47ms/step - loss: 0.2001 - accuracy: 0.9335 - val_loss: 0.7628 - val_accuracy: 0.7343\n",
            "Epoch 8/30\n",
            "50/50 [==============================] - 1s 27ms/step - loss: 0.1866 - accuracy: 0.9366 - val_loss: 0.6439 - val_accuracy: 0.7419\n",
            "Epoch 9/30\n",
            "50/50 [==============================] - 1s 16ms/step - loss: 0.1462 - accuracy: 0.9579 - val_loss: 0.7461 - val_accuracy: 0.7419\n",
            "Epoch 10/30\n",
            "50/50 [==============================] - 1s 18ms/step - loss: 0.1160 - accuracy: 0.9718 - val_loss: 0.8462 - val_accuracy: 0.7544\n",
            "Epoch 11/30\n",
            "50/50 [==============================] - 1s 20ms/step - loss: 0.1245 - accuracy: 0.9642 - val_loss: 0.8191 - val_accuracy: 0.7494\n",
            "Epoch 12/30\n",
            "50/50 [==============================] - 1s 20ms/step - loss: 0.1235 - accuracy: 0.9623 - val_loss: 0.8345 - val_accuracy: 0.7469\n",
            "Epoch 13/30\n",
            "50/50 [==============================] - 1s 21ms/step - loss: 0.1150 - accuracy: 0.9718 - val_loss: 0.7842 - val_accuracy: 0.7393\n",
            "Epoch 14/30\n",
            "50/50 [==============================] - 1s 23ms/step - loss: 0.1088 - accuracy: 0.9718 - val_loss: 0.9436 - val_accuracy: 0.7368\n",
            "Epoch 15/30\n",
            "50/50 [==============================] - 1s 18ms/step - loss: 0.0965 - accuracy: 0.9768 - val_loss: 0.9130 - val_accuracy: 0.7419\n",
            "Epoch 16/30\n",
            "50/50 [==============================] - 1s 19ms/step - loss: 0.0781 - accuracy: 0.9831 - val_loss: 1.0207 - val_accuracy: 0.7419\n",
            "Epoch 17/30\n",
            "50/50 [==============================] - 1s 17ms/step - loss: 0.0984 - accuracy: 0.9755 - val_loss: 0.9914 - val_accuracy: 0.7343\n",
            "Epoch 18/30\n",
            "50/50 [==============================] - 1s 18ms/step - loss: 0.0922 - accuracy: 0.9755 - val_loss: 0.9260 - val_accuracy: 0.7469\n",
            "Epoch 19/30\n",
            "50/50 [==============================] - 1s 21ms/step - loss: 0.0807 - accuracy: 0.9805 - val_loss: 1.0014 - val_accuracy: 0.7318\n",
            "Epoch 20/30\n",
            "50/50 [==============================] - 1s 21ms/step - loss: 0.0767 - accuracy: 0.9805 - val_loss: 1.0063 - val_accuracy: 0.7218\n",
            "Epoch 21/30\n",
            "50/50 [==============================] - 1s 20ms/step - loss: 0.0625 - accuracy: 0.9874 - val_loss: 1.1168 - val_accuracy: 0.7293\n",
            "Epoch 22/30\n",
            "50/50 [==============================] - 1s 17ms/step - loss: 0.0619 - accuracy: 0.9874 - val_loss: 1.1138 - val_accuracy: 0.7318\n",
            "Epoch 23/30\n",
            "50/50 [==============================] - 1s 16ms/step - loss: 0.0571 - accuracy: 0.9887 - val_loss: 1.1449 - val_accuracy: 0.7469\n",
            "Epoch 24/30\n",
            "50/50 [==============================] - 1s 19ms/step - loss: 0.0616 - accuracy: 0.9862 - val_loss: 1.0158 - val_accuracy: 0.7544\n",
            "Epoch 25/30\n",
            "50/50 [==============================] - 1s 15ms/step - loss: 0.0650 - accuracy: 0.9849 - val_loss: 1.1291 - val_accuracy: 0.7368\n",
            "Epoch 26/30\n",
            "50/50 [==============================] - 1s 16ms/step - loss: 0.0621 - accuracy: 0.9856 - val_loss: 1.0558 - val_accuracy: 0.7469\n",
            "Epoch 27/30\n",
            "50/50 [==============================] - 1s 14ms/step - loss: 0.0601 - accuracy: 0.9843 - val_loss: 1.0630 - val_accuracy: 0.7343\n",
            "Epoch 28/30\n",
            "50/50 [==============================] - 1s 16ms/step - loss: 0.0757 - accuracy: 0.9768 - val_loss: 1.0347 - val_accuracy: 0.7519\n",
            "Epoch 29/30\n",
            "50/50 [==============================] - 1s 14ms/step - loss: 0.0722 - accuracy: 0.9812 - val_loss: 1.0627 - val_accuracy: 0.7343\n",
            "Epoch 30/30\n",
            "50/50 [==============================] - 1s 16ms/step - loss: 0.0626 - accuracy: 0.9849 - val_loss: 1.1172 - val_accuracy: 0.7343\n"
          ]
        },
        {
          "output_type": "display_data",
          "data": {
            "text/plain": [
              "<Figure size 432x288 with 1 Axes>"
            ],
            "image/png": "[encoded data removed]"
          },
          "metadata": {
            "needs_background": "light"
          }
        },
        {
          "output_type": "display_data",
          "data": {
            "text/plain": [
              "<Figure size 432x288 with 1 Axes>"
            ],
            "image/png": "[encoded data removed]"
          },
          "metadata": {
            "needs_background": "light"
          }
        },
        {
          "output_type": "stream",
          "name": "stdout",
          "text": [
            "1/1 [==============================] - 1s 1s/step\n",
            "[  4 281  16  25   0   0   0   0   0   0   0   0   0   0   0   0   0   0\n",
            "   0   0   0   0   0   0   0   0   0   0   0   0   0   0   0   0   0   0\n",
            "   0   0   0   0   0   0   0   0   0   0   0   0   0   0]\n",
            "I love this phone\n",
            "[0.99694914]\n",
            "\n",
            "\n",
            "[812 227 864 100 775   9 525 843   0   0   0   0   0   0   0   0   0   0\n",
            "   0   0   0   0   0   0   0   0   0   0   0   0   0   0   0   0   0   0\n",
            "   0   0   0   0   0   0   0   0   0   0   0   0   0   0]\n",
            "Everything was cold\n",
            "[0.00469112]\n",
            "\n",
            "\n",
            "[812 227 864 100 775   9 109   8 333 731  24  61   4 171  59  77   0   0\n",
            "   0   0   0   0   0   0   0   0   0   0   0   0   0   0   0   0   0   0\n",
            "   0   0   0   0   0   0   0   0   0   0   0   0   0   0]\n",
            "Everything was hot exactly as I wanted\n",
            "[0.7228659]\n",
            "\n",
            "\n",
            "[812 227 864 100 775   9 157 359 853   0   0   0   0   0   0   0   0   0\n",
            "   0   0   0   0   0   0   0   0   0   0   0   0   0   0   0   0   0   0\n",
            "   0   0   0   0   0   0   0   0   0   0   0   0   0   0]\n",
            "Everything was green\n",
            "[0.00511541]\n",
            "\n",
            "\n",
            "[  1 109 228 540 237 635 241 423 340  89 298   0   0   0   0   0   0   0\n",
            "   0   0   0   0   0   0   0   0   0   0   0   0   0   0   0   0   0   0\n",
            "   0   0   0   0   0   0   0   0   0   0   0   0   0   0]\n",
            "the host seated us immediately\n",
            "[0.03860688]\n",
            "\n",
            "\n",
            "[154 242  47 635 341  12 569 547 147 319 775 125  85   0   0   0   0   0\n",
            "   0   0   0   0   0   0   0   0   0   0   0   0   0   0   0   0   0   0\n",
            "   0   0   0   0   0   0   0   0   0   0   0   0   0   0]\n",
            "they gave us free chocolate cake\n",
            "[0.9972792]\n",
            "\n",
            "\n",
            "[158 190 853 782   8 607 775 210 232 146 775 470  67 305 101  15   1 328\n",
            " 296  26  19   1 661 641 195   0   0   0   0   0   0   0   0   0   0   0\n",
            "   0   0   0   0   0   0   0   0   0   0   0   0   0   0]\n",
            "we couldn't hear each other talk because of the shouting in the kitchen\n",
            "[0.02251852]\n",
            "\n",
            "\n"
          ]
        }
      ]
    },
    {
      "cell_type": "markdown",
      "source": [
        "1. Yerleştirmeler ve Global Ortalama Havuzlama katmanı\n",
        "2. Gömmeler ve Çift Yönlü LSTM katmanı\n",
        "3. Gömmeler ve iki Çift Yönlü LSTM katmanı\n",
        "\n",
        "**1 E YAKINLIK OLUMLU--- 0 A YAKINLIK OLUMSUZ**\n",
        "\n",
        "PREDİCT COMPARE FOR ALL MODELS"
      ],
      "metadata": {
        "id": "7Rhp-nUrkv_8"
      }
    },
    {
      "cell_type": "code",
      "source": [
        "my_reviews =[\"lovely\", \"dreadful\", \"stay away\",\n",
        "             \"everything was hot exactly as I wanted\",\n",
        "             \"everything was not exactly as I wanted\",\n",
        "             \"they gave us free chocolate cake\",\n",
        "             \"I've never eaten anything so spicy in my life, my throat burned for hours\",\n",
        "             \"for a phone that is as expensive as this one I expect it to be much easier to use than this thing is\",\n",
        "             \"we left there very full for a low price so I'd say you just can't go wrong at this place\",\n",
        "             \"that place does not have quality meals and it isn't a good place to go for dinner\",\n",
        "             ]"
      ],
      "metadata": {
        "id": "ipNQDBN9kwA9"
      },
      "execution_count": 39,
      "outputs": []
    },
    {
      "cell_type": "code",
      "source": [
        "print(\"===================================\\n\",\"Embeddings only:\\n\", \"===================================\",)\n",
        "predict_review(model, my_reviews, show_padded_sequences=False)"
      ],
      "metadata": {
        "colab": {
          "base_uri": "https://localhost:8080/"
        },
        "id": "nYBtCu2PkwEh",
        "outputId": "a4171d34-0df6-459e-b74c-f0bda5e0d4f6"
      },
      "execution_count": 41,
      "outputs": [
        {
          "output_type": "stream",
          "name": "stdout",
          "text": [
            "===================================\n",
            " Embeddings only:\n",
            " ===================================\n",
            "1/1 [==============================] - 0s 50ms/step\n",
            "lovely\n",
            "[0.9971764]\n",
            "\n",
            "\n",
            "dreadful\n",
            "[0.00032222]\n",
            "\n",
            "\n",
            "stay away\n",
            "[0.47550952]\n",
            "\n",
            "\n",
            "everything was hot exactly as I wanted\n",
            "[0.99407744]\n",
            "\n",
            "\n",
            "everything was not exactly as I wanted\n",
            "[0.8929616]\n",
            "\n",
            "\n",
            "they gave us free chocolate cake\n",
            "[0.99288756]\n",
            "\n",
            "\n",
            "I've never eaten anything so spicy in my life, my throat burned for hours\n",
            "[0.0001602]\n",
            "\n",
            "\n",
            "for a phone that is as expensive as this one I expect it to be much easier to use than this thing is\n",
            "[0.31741396]\n",
            "\n",
            "\n",
            "we left there very full for a low price so I'd say you just can't go wrong at this place\n",
            "[0.00030668]\n",
            "\n",
            "\n",
            "that place does not have quality meals and it isn't a good place to go for dinner\n",
            "[0.98395085]\n",
            "\n",
            "\n"
          ]
        }
      ]
    },
    {
      "cell_type": "code",
      "source": [
        "print(\"===================================\\n\", \"With a single bidirectional LSTM:\\n\", \"===================================\")\n",
        "predict_review(model_bidi_lstm, my_reviews, show_padded_sequences=False)"
      ],
      "metadata": {
        "colab": {
          "base_uri": "https://localhost:8080/"
        },
        "id": "RA61-r-ekwFY",
        "outputId": "e747e31f-7ede-4d48-a23a-505e7a701d10"
      },
      "execution_count": 42,
      "outputs": [
        {
          "output_type": "stream",
          "name": "stdout",
          "text": [
            "===================================\n",
            " With a single bidirectional LSTM:\n",
            " ===================================\n",
            "1/1 [==============================] - 0s 68ms/step\n",
            "lovely\n",
            "[0.99901927]\n",
            "\n",
            "\n",
            "dreadful\n",
            "[0.01540251]\n",
            "\n",
            "\n",
            "stay away\n",
            "[0.10026204]\n",
            "\n",
            "\n",
            "everything was hot exactly as I wanted\n",
            "[0.9668528]\n",
            "\n",
            "\n",
            "everything was not exactly as I wanted\n",
            "[0.01259428]\n",
            "\n",
            "\n",
            "they gave us free chocolate cake\n",
            "[0.5552742]\n",
            "\n",
            "\n",
            "I've never eaten anything so spicy in my life, my throat burned for hours\n",
            "[0.07704324]\n",
            "\n",
            "\n",
            "for a phone that is as expensive as this one I expect it to be much easier to use than this thing is\n",
            "[0.01532]\n",
            "\n",
            "\n",
            "we left there very full for a low price so I'd say you just can't go wrong at this place\n",
            "[0.99998593]\n",
            "\n",
            "\n",
            "that place does not have quality meals and it isn't a good place to go for dinner\n",
            "[0.9955978]\n",
            "\n",
            "\n"
          ]
        }
      ]
    },
    {
      "cell_type": "code",
      "source": [
        "print(\"===================================\\n\",\"With two bidirectional LSTMs:\\n\", \"===================================\")\n",
        "predict_review(model_multiple_bidi_lstm, my_reviews, show_padded_sequences=False)"
      ],
      "metadata": {
        "colab": {
          "base_uri": "https://localhost:8080/"
        },
        "id": "Yqtc7U0hkwGS",
        "outputId": "8e297b74-83f3-4148-cc94-7ece4cb1d24a"
      },
      "execution_count": 43,
      "outputs": [
        {
          "output_type": "stream",
          "name": "stdout",
          "text": [
            "===================================\n",
            " With two bidirectional LSTMs:\n",
            " ===================================\n",
            "1/1 [==============================] - 0s 24ms/step\n",
            "lovely\n",
            "[0.99729985]\n",
            "\n",
            "\n",
            "dreadful\n",
            "[0.00393231]\n",
            "\n",
            "\n",
            "stay away\n",
            "[0.01728382]\n",
            "\n",
            "\n",
            "everything was hot exactly as I wanted\n",
            "[0.7958087]\n",
            "\n",
            "\n",
            "everything was not exactly as I wanted\n",
            "[0.00448225]\n",
            "\n",
            "\n",
            "they gave us free chocolate cake\n",
            "[0.9972792]\n",
            "\n",
            "\n",
            "I've never eaten anything so spicy in my life, my throat burned for hours\n",
            "[0.0037608]\n",
            "\n",
            "\n",
            "for a phone that is as expensive as this one I expect it to be much easier to use than this thing is\n",
            "[0.14294776]\n",
            "\n",
            "\n",
            "we left there very full for a low price so I'd say you just can't go wrong at this place\n",
            "[0.0049775]\n",
            "\n",
            "\n",
            "that place does not have quality meals and it isn't a good place to go for dinner\n",
            "[0.007601]\n",
            "\n",
            "\n"
          ]
        }
      ]
    }
  ]
}