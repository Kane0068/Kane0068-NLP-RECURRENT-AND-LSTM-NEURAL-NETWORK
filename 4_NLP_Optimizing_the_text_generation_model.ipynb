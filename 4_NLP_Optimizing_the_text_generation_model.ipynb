{
  "nbformat": 4,
  "nbformat_minor": 0,
  "metadata": {
    "colab": {
      "provenance": [],
      "authorship_tag": "ABX9TyP3X+yozcMBaYMhkN/CFyD/"
    },
    "kernelspec": {
      "name": "python3",
      "display_name": "Python 3"
    },
    "language_info": {
      "name": "python"
    },
    "accelerator": "GPU",
    "gpuClass": "standard"
  },
  "cells": [
    {
      "cell_type": "markdown",
      "source": [
        "**TEKRAR VE TUTARSIZ OLMASIYLA ALAKALI OPTİMİZE ETMEMİZ GEREKİYOR**\n",
        "**BU SORUNU DAHA BÜYÜK BİR VERİ SETİ KULLANARAK ÇÖZECEĞİZ**"
      ],
      "metadata": {
        "id": "kzVWiHwztg08"
      }
    },
    {
      "cell_type": "markdown",
      "source": [
        "##1-İmporting libraries"
      ],
      "metadata": {
        "id": "SFibKPTAw2H5"
      }
    },
    {
      "cell_type": "code",
      "source": [
        "import tensorflow as tf\n",
        "\n",
        "from tensorflow.keras.preprocessing.text import Tokenizer\n",
        "from tensorflow.keras.preprocessing.sequence import pad_sequences\n",
        "\n",
        "import string\n",
        "import numpy as np\n",
        "import pandas as pd"
      ],
      "metadata": {
        "id": "OU9puiMyw2KX"
      },
      "execution_count": 1,
      "outputs": []
    },
    {
      "cell_type": "markdown",
      "source": [
        "##2-Get The Data"
      ],
      "metadata": {
        "id": "_UjbufOxw2M3"
      }
    },
    {
      "cell_type": "code",
      "source": [
        "!wget --no-check-certificate \\\n",
        "    https://drive.google.com/uc?id=1LiJFZd41ofrWoBtW-pMYsfz1w8Ny0Bj8 \\\n",
        "    -O /tmp/songdata.csv"
      ],
      "metadata": {
        "colab": {
          "base_uri": "https://localhost:8080/"
        },
        "id": "36wuimaIw2PT",
        "outputId": "54b52e9b-3f55-40d9-fd25-238d8a26b730"
      },
      "execution_count": 2,
      "outputs": [
        {
          "output_type": "stream",
          "name": "stdout",
          "text": [
            "--2023-03-10 18:27:23--  https://drive.google.com/uc?id=1LiJFZd41ofrWoBtW-pMYsfz1w8Ny0Bj8\n",
            "Resolving drive.google.com (drive.google.com)... 172.217.214.102, 172.217.214.139, 172.217.214.100, ...\n",
            "Connecting to drive.google.com (drive.google.com)|172.217.214.102|:443... connected.\n",
            "HTTP request sent, awaiting response... 303 See Other\n",
            "Location: https://doc-04-ak-docs.googleusercontent.com/docs/securesc/ha0ro937gcuc7l7deffksulhg5h7mbp1/ph55g48nird6q9js6febvob9eb2dfbj4/1678472775000/11118900490791463723/*/1LiJFZd41ofrWoBtW-pMYsfz1w8Ny0Bj8?uuid=ff224e79-1684-4c46-8221-76a171c562e9 [following]\n",
            "Warning: wildcards not supported in HTTP.\n",
            "--2023-03-10 18:27:27--  https://doc-04-ak-docs.googleusercontent.com/docs/securesc/ha0ro937gcuc7l7deffksulhg5h7mbp1/ph55g48nird6q9js6febvob9eb2dfbj4/1678472775000/11118900490791463723/*/1LiJFZd41ofrWoBtW-pMYsfz1w8Ny0Bj8?uuid=ff224e79-1684-4c46-8221-76a171c562e9\n",
            "Resolving doc-04-ak-docs.googleusercontent.com (doc-04-ak-docs.googleusercontent.com)... 142.250.136.132, 2607:f8b0:4001:c34::84\n",
            "Connecting to doc-04-ak-docs.googleusercontent.com (doc-04-ak-docs.googleusercontent.com)|142.250.136.132|:443... connected.\n",
            "HTTP request sent, awaiting response... 200 OK\n",
            "Length: 72436445 (69M) [text/csv]\n",
            "Saving to: ‘/tmp/songdata.csv’\n",
            "\n",
            "/tmp/songdata.csv   100%[===================>]  69.08M   170MB/s    in 0.4s    \n",
            "\n",
            "2023-03-10 18:27:28 (170 MB/s) - ‘/tmp/songdata.csv’ saved [72436445/72436445]\n",
            "\n"
          ]
        }
      ]
    },
    {
      "cell_type": "markdown",
      "source": [
        "* VERİSETİMİZDEN BİR ÖNCEKİ ÇALIŞMADA 100 ŞARKI ÇEKTİĞİMİZ İÇİN MODELDE TEKRAR SORUNU YAŞADIK\n",
        "* bU SEFER 250 ŞARKI İÇİN EĞİTECEĞİZ\n",
        "* TÜM VERİ SETİNİ KULLANMIYORUZ ÇÜNKÜ RAM VE ZAMAN TASARRUFU YAPIYORUZ"
      ],
      "metadata": {
        "id": "GIX_tbBZw2Rl"
      }
    },
    {
      "cell_type": "markdown",
      "source": [
        "##3-Preprocessing"
      ],
      "metadata": {
        "id": "GIbf-ghNw2UB"
      }
    },
    {
      "cell_type": "code",
      "source": [
        "def tokenize_corpus(corpus,num_words=-1):\n",
        "  if num_words > -1:\n",
        "    tokenizer = Tokenizer(num_words = num_words)\n",
        "  else:\n",
        "    tokenizer = Tokenizer()\n",
        "  tokenizer.fit_on_texts(corpus)\n",
        "  return tokenizer\n",
        "\n",
        "\n",
        "def create_lyrics_corpus(dataset,field):\n",
        "  # Noktalamaları kaldır\n",
        "  dataset[field] = dataset[field].str.replace('[{}]'.format(string.punctuation), '')\n",
        "  # Harfleri küçültelim\n",
        "  dataset[field] = dataset[field].str.lower()\n",
        "  #satırlara bölmek için uzun bir dize\n",
        "  lyrics = dataset[field].str.cat()\n",
        "  corpus = lyrics.split('\\n')\n",
        "  # Sondaki boşlukları kaldıralım\n",
        "  for l in range(len(corpus)):\n",
        "    corpus[l] = corpus[l].rstrip()\n",
        "  # Boş satırları kaldıralım\n",
        "  corpus = [l for l in corpus if l != '']\n",
        "\n",
        "  return corpus"
      ],
      "metadata": {
        "id": "23t_6nd3ybOc"
      },
      "execution_count": 10,
      "outputs": []
    },
    {
      "cell_type": "markdown",
      "source": [
        "##4-Use top Functions"
      ],
      "metadata": {
        "id": "Kmh59S6cybQ3"
      }
    },
    {
      "cell_type": "code",
      "source": [
        "\n",
        "\n",
        "# datasetimizi okuyalım tanımlayalım \n",
        "dataset = pd.read_csv('/tmp/songdata.csv', dtype=str)[:250] # 250 şarkıda geçen kelimeler ile tokenize sequence and fit işlemlerini yapacaz\n",
        "\n",
        "# corpus tanımlatalım --> Dataset içindeki field = text leri alacaz\n",
        "corpus = create_lyrics_corpus(dataset, 'text')\n",
        "\n",
        "# Tokenize işlemi yapalım \n",
        "tokenizer = tokenize_corpus(corpus, num_words=2000)\n",
        "total_words = tokenizer.num_words\n",
        "\n",
        "print(\" Total Words count is : \",total_words)\n"
      ],
      "metadata": {
        "colab": {
          "base_uri": "https://localhost:8080/"
        },
        "id": "ZVQ9dl2CybTQ",
        "outputId": "1261ad97-8c7f-46cf-baee-7396c6a1300b"
      },
      "execution_count": 15,
      "outputs": [
        {
          "output_type": "stream",
          "name": "stdout",
          "text": [
            " Total Words count is :  2000\n"
          ]
        },
        {
          "output_type": "stream",
          "name": "stderr",
          "text": [
            "<ipython-input-10-ca5898732f99>:12: FutureWarning: The default value of regex will change from True to False in a future version.\n",
            "  dataset[field] = dataset[field].str.replace('[{}]'.format(string.punctuation), '')\n"
          ]
        }
      ]
    },
    {
      "cell_type": "markdown",
      "source": [
        "##5-Create Sequences and Labels\n"
      ],
      "metadata": {
        "id": "c1X5ZiE2ybVi"
      }
    },
    {
      "cell_type": "code",
      "source": [
        "sequences =[]\n",
        "\n",
        "for line in corpus:\n",
        "  token_list =tokenizer.texts_to_sequences([line])[0]\n",
        "  for i in range(1,len(token_list)):\n",
        "    n_gram_sequence =token_list[:i+1]\n",
        "    sequences.append(n_gram_sequence)\n",
        "\n",
        "\n",
        "# pad sequences for equal input length(Hepsl-i standart olsun diye)\n",
        "max_sequence_len = max([len(seq) for seq in sequences]) # en uzun cümle sayısını buluyoruz\n",
        "sequences_padded = np.array(pad_sequences(sequences,maxlen = max_sequence_len,padding = 'pre')) # numpy dizisi yapılmasına dikkat et\n",
        "\n",
        "# input ve labelleri oluşturalım\n",
        "input_sequences , labels = sequences_padded[:,:-1] ,sequences_padded[:,-1]\n",
        "\n",
        "# Etiketleri işlem yapabilmeki için sayılara dönüştürelim(0-1 >>> One Hot Encoding)\n",
        "one_hot_labels = tf.keras.utils.to_categorical(labels,num_classes = total_words)"
      ],
      "metadata": {
        "id": "HSAt2FQBybX0"
      },
      "execution_count": 18,
      "outputs": []
    },
    {
      "cell_type": "markdown",
      "source": [
        "## 6 - Train a (Better) Text Generation Model\n",
        "   * Veri sayımız fazla olduğu için 100 şarkıya göre çok daha iyi bir model olacaktır\n",
        "   * Veri fazla olduğu için kısa sürmesi için epochs = 100 ayarlayalım\n",
        "   * Oturum türü GPU yapalım"
      ],
      "metadata": {
        "id": "Z7s1ae6VybaE"
      }
    },
    {
      "cell_type": "code",
      "source": [
        "from tensorflow.keras.models import Sequential\n",
        "from tensorflow.keras.layers import Embedding, LSTM, Dense, Bidirectional\n",
        "\n",
        "model = Sequential()\n",
        "model.add(Embedding(total_words,64,input_length = max_sequence_len-1))\n",
        "model.add(Bidirectional(LSTM(20)))\n",
        "model.add(Dense(total_words,activation = 'softmax'))\n",
        "\n",
        "# Model Compile \n",
        "model.compile(\n",
        "    loss = 'categorical_crossentropy',\n",
        "    optimizer = 'adam',\n",
        "    metrics = ['accuracy']\n",
        ")\n",
        "\n",
        "\n",
        "history = model.fit(input_sequences,one_hot_labels,epochs = 100,verbose = 1)"
      ],
      "metadata": {
        "colab": {
          "base_uri": "https://localhost:8080/"
        },
        "id": "qdkmFdD2ybp0",
        "outputId": "0a4b5161-600e-4231-c05e-21672d4fe76a"
      },
      "execution_count": 20,
      "outputs": [
        {
          "output_type": "stream",
          "name": "stdout",
          "text": [
            "Epoch 1/100\n",
            "1480/1480 [==============================] - 30s 13ms/step - loss: 5.9818 - accuracy: 0.0463\n",
            "Epoch 2/100\n",
            "1480/1480 [==============================] - 13s 9ms/step - loss: 5.6747 - accuracy: 0.0514\n",
            "Epoch 3/100\n",
            "1480/1480 [==============================] - 12s 8ms/step - loss: 5.4784 - accuracy: 0.0646\n",
            "Epoch 4/100\n",
            "1480/1480 [==============================] - 11s 8ms/step - loss: 5.3034 - accuracy: 0.0937\n",
            "Epoch 5/100\n",
            "1480/1480 [==============================] - 11s 8ms/step - loss: 5.1738 - accuracy: 0.1115\n",
            "Epoch 6/100\n",
            "1480/1480 [==============================] - 11s 8ms/step - loss: 5.0560 - accuracy: 0.1225\n",
            "Epoch 7/100\n",
            "1480/1480 [==============================] - 11s 8ms/step - loss: 4.9412 - accuracy: 0.1326\n",
            "Epoch 8/100\n",
            "1480/1480 [==============================] - 11s 8ms/step - loss: 4.8293 - accuracy: 0.1455\n",
            "Epoch 9/100\n",
            "1480/1480 [==============================] - 12s 8ms/step - loss: 4.7041 - accuracy: 0.1574\n",
            "Epoch 10/100\n",
            "1480/1480 [==============================] - 11s 8ms/step - loss: 4.5583 - accuracy: 0.1702\n",
            "Epoch 11/100\n",
            "1480/1480 [==============================] - 12s 8ms/step - loss: 4.4308 - accuracy: 0.1839\n",
            "Epoch 12/100\n",
            "1480/1480 [==============================] - 12s 8ms/step - loss: 4.3197 - accuracy: 0.1975\n",
            "Epoch 13/100\n",
            "1480/1480 [==============================] - 12s 8ms/step - loss: 4.2258 - accuracy: 0.2074\n",
            "Epoch 14/100\n",
            "1480/1480 [==============================] - 12s 8ms/step - loss: 4.1392 - accuracy: 0.2175\n",
            "Epoch 15/100\n",
            "1480/1480 [==============================] - 11s 8ms/step - loss: 4.0622 - accuracy: 0.2257\n",
            "Epoch 16/100\n",
            "1480/1480 [==============================] - 11s 8ms/step - loss: 3.9991 - accuracy: 0.2349\n",
            "Epoch 17/100\n",
            "1480/1480 [==============================] - 12s 8ms/step - loss: 3.9353 - accuracy: 0.2410\n",
            "Epoch 18/100\n",
            "1480/1480 [==============================] - 11s 8ms/step - loss: 3.8757 - accuracy: 0.2493\n",
            "Epoch 19/100\n",
            "1480/1480 [==============================] - 11s 8ms/step - loss: 3.8204 - accuracy: 0.2569\n",
            "Epoch 20/100\n",
            "1480/1480 [==============================] - 12s 8ms/step - loss: 3.7760 - accuracy: 0.2648\n",
            "Epoch 21/100\n",
            "1480/1480 [==============================] - 12s 8ms/step - loss: 3.7291 - accuracy: 0.2700\n",
            "Epoch 22/100\n",
            "1480/1480 [==============================] - 12s 8ms/step - loss: 3.6832 - accuracy: 0.2770\n",
            "Epoch 23/100\n",
            "1480/1480 [==============================] - 12s 8ms/step - loss: 3.6394 - accuracy: 0.2846\n",
            "Epoch 24/100\n",
            "1480/1480 [==============================] - 12s 8ms/step - loss: 3.6007 - accuracy: 0.2881\n",
            "Epoch 25/100\n",
            "1480/1480 [==============================] - 12s 8ms/step - loss: 3.5565 - accuracy: 0.2981\n",
            "Epoch 26/100\n",
            "1480/1480 [==============================] - 11s 8ms/step - loss: 3.5226 - accuracy: 0.3003\n",
            "Epoch 27/100\n",
            "1480/1480 [==============================] - 11s 8ms/step - loss: 3.4825 - accuracy: 0.3066\n",
            "Epoch 28/100\n",
            "1480/1480 [==============================] - 12s 8ms/step - loss: 3.4434 - accuracy: 0.3140\n",
            "Epoch 29/100\n",
            "1480/1480 [==============================] - 11s 8ms/step - loss: 3.4121 - accuracy: 0.3181\n",
            "Epoch 30/100\n",
            "1480/1480 [==============================] - 11s 8ms/step - loss: 3.3812 - accuracy: 0.3241\n",
            "Epoch 31/100\n",
            "1480/1480 [==============================] - 12s 8ms/step - loss: 3.3455 - accuracy: 0.3295\n",
            "Epoch 32/100\n",
            "1480/1480 [==============================] - 12s 8ms/step - loss: 3.3156 - accuracy: 0.3333\n",
            "Epoch 33/100\n",
            "1480/1480 [==============================] - 12s 8ms/step - loss: 3.2871 - accuracy: 0.3393\n",
            "Epoch 34/100\n",
            "1480/1480 [==============================] - 12s 8ms/step - loss: 3.2641 - accuracy: 0.3412\n",
            "Epoch 35/100\n",
            "1480/1480 [==============================] - 12s 8ms/step - loss: 3.2357 - accuracy: 0.3465\n",
            "Epoch 36/100\n",
            "1480/1480 [==============================] - 12s 8ms/step - loss: 3.2096 - accuracy: 0.3508\n",
            "Epoch 37/100\n",
            "1480/1480 [==============================] - 11s 8ms/step - loss: 3.1790 - accuracy: 0.3557\n",
            "Epoch 38/100\n",
            "1480/1480 [==============================] - 11s 8ms/step - loss: 3.1588 - accuracy: 0.3609\n",
            "Epoch 39/100\n",
            "1480/1480 [==============================] - 11s 8ms/step - loss: 3.1359 - accuracy: 0.3640\n",
            "Epoch 40/100\n",
            "1480/1480 [==============================] - 11s 8ms/step - loss: 3.1114 - accuracy: 0.3677\n",
            "Epoch 41/100\n",
            "1480/1480 [==============================] - 11s 8ms/step - loss: 3.0901 - accuracy: 0.3695\n",
            "Epoch 42/100\n",
            "1480/1480 [==============================] - 12s 8ms/step - loss: 3.0670 - accuracy: 0.3741\n",
            "Epoch 43/100\n",
            "1480/1480 [==============================] - 11s 8ms/step - loss: 3.0545 - accuracy: 0.3777\n",
            "Epoch 44/100\n",
            "1480/1480 [==============================] - 11s 8ms/step - loss: 3.0301 - accuracy: 0.3793\n",
            "Epoch 45/100\n",
            "1480/1480 [==============================] - 11s 7ms/step - loss: 3.0072 - accuracy: 0.3838\n",
            "Epoch 46/100\n",
            "1480/1480 [==============================] - 11s 8ms/step - loss: 2.9931 - accuracy: 0.3867\n",
            "Epoch 47/100\n",
            "1480/1480 [==============================] - 11s 8ms/step - loss: 2.9712 - accuracy: 0.3895\n",
            "Epoch 48/100\n",
            "1480/1480 [==============================] - 11s 8ms/step - loss: 2.9586 - accuracy: 0.3927\n",
            "Epoch 49/100\n",
            "1480/1480 [==============================] - 11s 8ms/step - loss: 2.9393 - accuracy: 0.3959\n",
            "Epoch 50/100\n",
            "1480/1480 [==============================] - 12s 8ms/step - loss: 2.9244 - accuracy: 0.3981\n",
            "Epoch 51/100\n",
            "1480/1480 [==============================] - 12s 8ms/step - loss: 2.9078 - accuracy: 0.4015\n",
            "Epoch 52/100\n",
            "1480/1480 [==============================] - 12s 8ms/step - loss: 2.8929 - accuracy: 0.4030\n",
            "Epoch 53/100\n",
            "1480/1480 [==============================] - 11s 8ms/step - loss: 2.8770 - accuracy: 0.4049\n",
            "Epoch 54/100\n",
            "1480/1480 [==============================] - 11s 8ms/step - loss: 2.8584 - accuracy: 0.4100\n",
            "Epoch 55/100\n",
            "1480/1480 [==============================] - 13s 9ms/step - loss: 2.8467 - accuracy: 0.4111\n",
            "Epoch 56/100\n",
            "1480/1480 [==============================] - 15s 10ms/step - loss: 2.8307 - accuracy: 0.4129\n",
            "Epoch 57/100\n",
            "1480/1480 [==============================] - 11s 8ms/step - loss: 2.8179 - accuracy: 0.4151\n",
            "Epoch 58/100\n",
            "1480/1480 [==============================] - 11s 8ms/step - loss: 2.8047 - accuracy: 0.4176\n",
            "Epoch 59/100\n",
            "1480/1480 [==============================] - 13s 8ms/step - loss: 2.7922 - accuracy: 0.4203\n",
            "Epoch 60/100\n",
            "1480/1480 [==============================] - 16s 11ms/step - loss: 2.7828 - accuracy: 0.4221\n",
            "Epoch 61/100\n",
            "1480/1480 [==============================] - 14s 10ms/step - loss: 2.7670 - accuracy: 0.4241\n",
            "Epoch 62/100\n",
            "1480/1480 [==============================] - 15s 10ms/step - loss: 2.7552 - accuracy: 0.4244\n",
            "Epoch 63/100\n",
            "1480/1480 [==============================] - 14s 10ms/step - loss: 2.7441 - accuracy: 0.4263\n",
            "Epoch 64/100\n",
            "1480/1480 [==============================] - 15s 10ms/step - loss: 2.7277 - accuracy: 0.4300\n",
            "Epoch 65/100\n",
            "1480/1480 [==============================] - 19s 13ms/step - loss: 2.7217 - accuracy: 0.4280\n",
            "Epoch 66/100\n",
            "1480/1480 [==============================] - 16s 11ms/step - loss: 2.7068 - accuracy: 0.4320\n",
            "Epoch 67/100\n",
            "1480/1480 [==============================] - 16s 11ms/step - loss: 2.6931 - accuracy: 0.4364\n",
            "Epoch 68/100\n",
            "1480/1480 [==============================] - 16s 11ms/step - loss: 2.6855 - accuracy: 0.4342\n",
            "Epoch 69/100\n",
            "1480/1480 [==============================] - 15s 10ms/step - loss: 2.6805 - accuracy: 0.4371\n",
            "Epoch 70/100\n",
            "1480/1480 [==============================] - 16s 11ms/step - loss: 2.6630 - accuracy: 0.4404\n",
            "Epoch 71/100\n",
            "1480/1480 [==============================] - 13s 9ms/step - loss: 2.6764 - accuracy: 0.4383\n",
            "Epoch 72/100\n",
            "1480/1480 [==============================] - 14s 10ms/step - loss: 2.6445 - accuracy: 0.4433\n",
            "Epoch 73/100\n",
            "1480/1480 [==============================] - 15s 10ms/step - loss: 2.6310 - accuracy: 0.4448\n",
            "Epoch 74/100\n",
            "1480/1480 [==============================] - 14s 9ms/step - loss: 2.6163 - accuracy: 0.4488\n",
            "Epoch 75/100\n",
            "1480/1480 [==============================] - 16s 11ms/step - loss: 2.6092 - accuracy: 0.4494\n",
            "Epoch 76/100\n",
            "1480/1480 [==============================] - 14s 10ms/step - loss: 2.6027 - accuracy: 0.4505\n",
            "Epoch 77/100\n",
            "1480/1480 [==============================] - 13s 9ms/step - loss: 2.6129 - accuracy: 0.4481\n",
            "Epoch 78/100\n",
            "1480/1480 [==============================] - 15s 10ms/step - loss: 2.5843 - accuracy: 0.4535\n",
            "Epoch 79/100\n",
            "1480/1480 [==============================] - 14s 9ms/step - loss: 2.5763 - accuracy: 0.4545\n",
            "Epoch 80/100\n",
            "1480/1480 [==============================] - 13s 9ms/step - loss: 2.5706 - accuracy: 0.4570\n",
            "Epoch 81/100\n",
            "1480/1480 [==============================] - 14s 9ms/step - loss: 2.5537 - accuracy: 0.4598\n",
            "Epoch 82/100\n",
            "1480/1480 [==============================] - 12s 8ms/step - loss: 2.5470 - accuracy: 0.4610\n",
            "Epoch 83/100\n",
            "1480/1480 [==============================] - 12s 8ms/step - loss: 2.5392 - accuracy: 0.4622\n",
            "Epoch 84/100\n",
            "1480/1480 [==============================] - 12s 8ms/step - loss: 2.5267 - accuracy: 0.4638\n",
            "Epoch 85/100\n",
            "1480/1480 [==============================] - 13s 9ms/step - loss: 2.5230 - accuracy: 0.4646\n",
            "Epoch 86/100\n",
            "1480/1480 [==============================] - 13s 9ms/step - loss: 2.5151 - accuracy: 0.4658\n",
            "Epoch 87/100\n",
            "1480/1480 [==============================] - 15s 10ms/step - loss: 2.4994 - accuracy: 0.4668\n",
            "Epoch 88/100\n",
            "1480/1480 [==============================] - 15s 10ms/step - loss: 2.5121 - accuracy: 0.4656\n",
            "Epoch 89/100\n",
            "1480/1480 [==============================] - 14s 10ms/step - loss: 2.4896 - accuracy: 0.4713\n",
            "Epoch 90/100\n",
            "1480/1480 [==============================] - 12s 8ms/step - loss: 2.4784 - accuracy: 0.4740\n",
            "Epoch 91/100\n",
            "1480/1480 [==============================] - 12s 8ms/step - loss: 2.4737 - accuracy: 0.4713\n",
            "Epoch 92/100\n",
            "1480/1480 [==============================] - 13s 9ms/step - loss: 2.4713 - accuracy: 0.4731\n",
            "Epoch 93/100\n",
            "1480/1480 [==============================] - 14s 9ms/step - loss: 2.4607 - accuracy: 0.4741\n",
            "Epoch 94/100\n",
            "1480/1480 [==============================] - 17s 11ms/step - loss: 2.4625 - accuracy: 0.4748\n",
            "Epoch 95/100\n",
            "1480/1480 [==============================] - 16s 11ms/step - loss: 2.4390 - accuracy: 0.4795\n",
            "Epoch 96/100\n",
            "1480/1480 [==============================] - 14s 10ms/step - loss: 2.4380 - accuracy: 0.4808\n",
            "Epoch 97/100\n",
            "1480/1480 [==============================] - 14s 10ms/step - loss: 2.4493 - accuracy: 0.4772\n",
            "Epoch 98/100\n",
            "1480/1480 [==============================] - 13s 9ms/step - loss: 2.4252 - accuracy: 0.4833\n",
            "Epoch 99/100\n",
            "1480/1480 [==============================] - 13s 9ms/step - loss: 2.4186 - accuracy: 0.4835\n",
            "Epoch 100/100\n",
            "1480/1480 [==============================] - 16s 11ms/step - loss: 2.4286 - accuracy: 0.4815\n"
          ]
        }
      ]
    },
    {
      "cell_type": "markdown",
      "source": [
        "##7-View the Training Graph"
      ],
      "metadata": {
        "id": "S3RRh6yzybsL"
      }
    },
    {
      "cell_type": "code",
      "source": [
        "import matplotlib.pyplot as plt\n",
        "\n",
        "def plot_graphs(history, string):\n",
        "  plt.plot(history.history[string])\n",
        "  plt.xlabel(\"Epochs\")\n",
        "  plt.ylabel(string)\n",
        "  plt.show()\n",
        "\n",
        "plot_graphs(history, 'accuracy')"
      ],
      "metadata": {
        "colab": {
          "base_uri": "https://localhost:8080/",
          "height": 281
        },
        "id": "wQ1v7WEBybug",
        "outputId": "499cc5e3-909f-43a4-9833-fab90efab2fe"
      },
      "execution_count": 21,
      "outputs": [
        {
          "output_type": "display_data",
          "data": {
            "text/plain": [
              "<Figure size 432x288 with 1 Axes>"
            ],
            "image/png": "[encoded data removed]"
          },
          "metadata": {
            "needs_background": "light"
          }
        }
      ]
    },
    {
      "cell_type": "markdown",
      "source": [
        "##8 Generate better lyrics!\n",
        "  * Daha az tekrar görerek daha iyi bir şarkı oluşturabiliriz"
      ],
      "metadata": {
        "id": "ERESF_0xybza"
      }
    },
    {
      "cell_type": "code",
      "source": [
        "seed_text = 'im feeling chills'\n",
        "next_words = 100\n",
        "\n",
        "for _ in range(next_words):\n",
        "  token_list = tokenizer.texts_to_sequences([seed_text])[0]\n",
        "  token_list = pad_sequences([token_list],maxlen = max_sequence_len-1,padding='pre')\n",
        "  predicted = np.argmax(model.predict(token_list),axis =-1)\n",
        "  output_word = \"\"\n",
        "\n",
        "  for word,index in tokenizer.word_index.items():\n",
        "    if index==predicted:\n",
        "      output_word = word\n",
        "      break\n",
        "  \n",
        "  seed_text += \" \" + output_word\n",
        "\n",
        "print(seed_text)"
      ],
      "metadata": {
        "colab": {
          "base_uri": "https://localhost:8080/"
        },
        "id": "88LzixDTw2Wh",
        "outputId": "bc2fa6e5-3989-4b7c-ecf6-079194b79498"
      },
      "execution_count": 22,
      "outputs": [
        {
          "output_type": "stream",
          "name": "stdout",
          "text": [
            "1/1 [==============================] - 1s 842ms/step\n",
            "1/1 [==============================] - 0s 24ms/step\n",
            "1/1 [==============================] - 0s 26ms/step\n",
            "1/1 [==============================] - 0s 27ms/step\n",
            "1/1 [==============================] - 0s 24ms/step\n",
            "1/1 [==============================] - 0s 27ms/step\n",
            "1/1 [==============================] - 0s 24ms/step\n",
            "1/1 [==============================] - 0s 24ms/step\n",
            "1/1 [==============================] - 0s 26ms/step\n",
            "1/1 [==============================] - 0s 28ms/step\n",
            "1/1 [==============================] - 0s 28ms/step\n",
            "1/1 [==============================] - 0s 27ms/step\n",
            "1/1 [==============================] - 0s 26ms/step\n",
            "1/1 [==============================] - 0s 28ms/step\n",
            "1/1 [==============================] - 0s 27ms/step\n",
            "1/1 [==============================] - 0s 27ms/step\n",
            "1/1 [==============================] - 0s 30ms/step\n",
            "1/1 [==============================] - 0s 26ms/step\n",
            "1/1 [==============================] - 0s 28ms/step\n",
            "1/1 [==============================] - 0s 26ms/step\n",
            "1/1 [==============================] - 0s 26ms/step\n",
            "1/1 [==============================] - 0s 26ms/step\n",
            "1/1 [==============================] - 0s 28ms/step\n",
            "1/1 [==============================] - 0s 25ms/step\n",
            "1/1 [==============================] - 0s 24ms/step\n",
            "1/1 [==============================] - 0s 26ms/step\n",
            "1/1 [==============================] - 0s 26ms/step\n",
            "1/1 [==============================] - 0s 30ms/step\n",
            "1/1 [==============================] - 0s 24ms/step\n",
            "1/1 [==============================] - 0s 28ms/step\n",
            "1/1 [==============================] - 0s 24ms/step\n",
            "1/1 [==============================] - 0s 24ms/step\n",
            "1/1 [==============================] - 0s 27ms/step\n",
            "1/1 [==============================] - 0s 28ms/step\n",
            "1/1 [==============================] - 0s 26ms/step\n",
            "1/1 [==============================] - 0s 26ms/step\n",
            "1/1 [==============================] - 0s 25ms/step\n",
            "1/1 [==============================] - 0s 30ms/step\n",
            "1/1 [==============================] - 0s 32ms/step\n",
            "1/1 [==============================] - 0s 30ms/step\n",
            "1/1 [==============================] - 0s 26ms/step\n",
            "1/1 [==============================] - 0s 28ms/step\n",
            "1/1 [==============================] - 0s 27ms/step\n",
            "1/1 [==============================] - 0s 25ms/step\n",
            "1/1 [==============================] - 0s 25ms/step\n",
            "1/1 [==============================] - 0s 26ms/step\n",
            "1/1 [==============================] - 0s 23ms/step\n",
            "1/1 [==============================] - 0s 23ms/step\n",
            "1/1 [==============================] - 0s 24ms/step\n",
            "1/1 [==============================] - 0s 23ms/step\n",
            "1/1 [==============================] - 0s 22ms/step\n",
            "1/1 [==============================] - 0s 25ms/step\n",
            "1/1 [==============================] - 0s 25ms/step\n",
            "1/1 [==============================] - 0s 22ms/step\n",
            "1/1 [==============================] - 0s 25ms/step\n",
            "1/1 [==============================] - 0s 25ms/step\n",
            "1/1 [==============================] - 0s 27ms/step\n",
            "1/1 [==============================] - 0s 25ms/step\n",
            "1/1 [==============================] - 0s 24ms/step\n",
            "1/1 [==============================] - 0s 23ms/step\n",
            "1/1 [==============================] - 0s 22ms/step\n",
            "1/1 [==============================] - 0s 24ms/step\n",
            "1/1 [==============================] - 0s 25ms/step\n",
            "1/1 [==============================] - 0s 27ms/step\n",
            "1/1 [==============================] - 0s 23ms/step\n",
            "1/1 [==============================] - 0s 22ms/step\n",
            "1/1 [==============================] - 0s 23ms/step\n",
            "1/1 [==============================] - 0s 23ms/step\n",
            "1/1 [==============================] - 0s 28ms/step\n",
            "1/1 [==============================] - 0s 23ms/step\n",
            "1/1 [==============================] - 0s 30ms/step\n",
            "1/1 [==============================] - 0s 24ms/step\n",
            "1/1 [==============================] - 0s 25ms/step\n",
            "1/1 [==============================] - 0s 27ms/step\n",
            "1/1 [==============================] - 0s 21ms/step\n",
            "1/1 [==============================] - 0s 26ms/step\n",
            "1/1 [==============================] - 0s 23ms/step\n",
            "1/1 [==============================] - 0s 22ms/step\n",
            "1/1 [==============================] - 0s 21ms/step\n",
            "1/1 [==============================] - 0s 21ms/step\n",
            "1/1 [==============================] - 0s 38ms/step\n",
            "1/1 [==============================] - 0s 23ms/step\n",
            "1/1 [==============================] - 0s 22ms/step\n",
            "1/1 [==============================] - 0s 25ms/step\n",
            "1/1 [==============================] - 0s 22ms/step\n",
            "1/1 [==============================] - 0s 21ms/step\n",
            "1/1 [==============================] - 0s 24ms/step\n",
            "1/1 [==============================] - 0s 23ms/step\n",
            "1/1 [==============================] - 0s 22ms/step\n",
            "1/1 [==============================] - 0s 21ms/step\n",
            "1/1 [==============================] - 0s 24ms/step\n",
            "1/1 [==============================] - 0s 21ms/step\n",
            "1/1 [==============================] - 0s 23ms/step\n",
            "1/1 [==============================] - 0s 22ms/step\n",
            "1/1 [==============================] - 0s 22ms/step\n",
            "1/1 [==============================] - 0s 24ms/step\n",
            "1/1 [==============================] - 0s 24ms/step\n",
            "1/1 [==============================] - 0s 23ms/step\n",
            "1/1 [==============================] - 0s 22ms/step\n",
            "1/1 [==============================] - 0s 23ms/step\n",
            "im feeling chills it up me if you wanna be blind but see me feel like me a call but it makes me the jamas town song song my wonderful fight but my hand thing that i meet a while we kissed the screw blow headin tear know kiss me my mind me headin lord lord ah honey lord laugh for me down on it tonight to the bone gets lord harm giant speed rides soldiers soldiers escaping escaping regrets of oasis of true prolonged plague farmer stinky notthekindofgirlyoudmarry goodbye farmer soldiers whispered move on guess on earth rumble and foolish voodoo up\n"
          ]
        }
      ]
    },
    {
      "cell_type": "markdown",
      "source": [
        "##9-Varying the Possible Outputs\n",
        "  * OLASI ÇIKTILARI DEĞİŞTİRECEĞİZ\n",
        "  * BİR ÖNCEKİ YAPTIĞIMIZA BENZER BİR ÇIKTI ALMAMIZIN SEBEBİ EN YAYGIN KELİMELERİ KULLANMASIDAN DOLAYIDIR\n",
        "  * DAHA FAZLA OLASILIK VERMEMİZİN YOLU model.predict_classes yerine model.predict_proba kullanmaktır\n",
        "  * Ek olarak np.random.choice ile birleştiririz"
      ],
      "metadata": {
        "id": "b2JcXXaUAcNR"
      }
    },
    {
      "cell_type": "code",
      "source": [
        "seed_text = 'im feeling chills'\n",
        "next_words = 100\n",
        "\n",
        "\n",
        "token_list = tokenizer.texts_to_sequences([seed_text])[0]\n",
        "token_list = pad_sequences([token_list],maxlen = max_sequence_len-1,padding='pre')\n",
        "predicted_probs = model.predict(token_list)[0]\n",
        "predicted = np.random.choice([x for x in range(len(predicted_probs))],\n",
        "                             p = predicted_probs)\n",
        "\n",
        "# 1 hücreyi birden çok kez çalıştırmak çeşitlilik sağlar\n",
        "\n",
        "print(predicted)"
      ],
      "metadata": {
        "colab": {
          "base_uri": "https://localhost:8080/"
        },
        "id": "y4tATUuQAcQT",
        "outputId": "bb291736-d8bf-4933-9f32-3c24d78c0b87"
      },
      "execution_count": 24,
      "outputs": [
        {
          "output_type": "stream",
          "name": "stdout",
          "text": [
            "1/1 [==============================] - 0s 39ms/step\n",
            "224\n"
          ]
        }
      ]
    },
    {
      "cell_type": "markdown",
      "source": [
        "##10-Use this process for the full output generation\n",
        "  * Şimdi tam bir çıktı almak için birleştirelim"
      ],
      "metadata": {
        "id": "Xo5cHkvVCuUW"
      }
    },
    {
      "cell_type": "code",
      "source": [
        "seed_text = \"im feeling chills\"\n",
        "next_words = 100\n",
        "  \n",
        "for _ in range(next_words):\n",
        "  token_list = tokenizer.texts_to_sequences([seed_text])[0]\n",
        "  token_list = pad_sequences([token_list], maxlen=max_sequence_len-1, padding='pre')\n",
        "  predicted_probs = model.predict(token_list)[0]\n",
        "  predicted = np.random.choice([x for x in range(len(predicted_probs))],\n",
        "                               p=predicted_probs)\n",
        "  output_word = \"\"\n",
        "  for word, index in tokenizer.word_index.items():\n",
        "    if index == predicted:\n",
        "      output_word = word\n",
        "      break\n",
        "  seed_text += \" \" + output_word\n",
        "print(seed_text)"
      ],
      "metadata": {
        "colab": {
          "base_uri": "https://localhost:8080/"
        },
        "id": "3-XDoDWwCun1",
        "outputId": "dfa25eb2-da49-4f77-f38e-da08f0749fc9"
      },
      "execution_count": 28,
      "outputs": [
        {
          "output_type": "stream",
          "name": "stdout",
          "text": [
            "1/1 [==============================] - 0s 27ms/step\n",
            "1/1 [==============================] - 0s 20ms/step\n",
            "1/1 [==============================] - 0s 22ms/step\n",
            "1/1 [==============================] - 0s 44ms/step\n",
            "1/1 [==============================] - 0s 37ms/step\n",
            "1/1 [==============================] - 0s 50ms/step\n",
            "1/1 [==============================] - 0s 67ms/step\n",
            "1/1 [==============================] - 0s 44ms/step\n",
            "1/1 [==============================] - 0s 37ms/step\n",
            "1/1 [==============================] - 0s 62ms/step\n",
            "1/1 [==============================] - 0s 52ms/step\n",
            "1/1 [==============================] - 0s 32ms/step\n",
            "1/1 [==============================] - 0s 25ms/step\n",
            "1/1 [==============================] - 0s 23ms/step\n",
            "1/1 [==============================] - 0s 24ms/step\n",
            "1/1 [==============================] - 0s 25ms/step\n",
            "1/1 [==============================] - 0s 23ms/step\n",
            "1/1 [==============================] - 0s 23ms/step\n",
            "1/1 [==============================] - 0s 23ms/step\n",
            "1/1 [==============================] - 0s 22ms/step\n",
            "1/1 [==============================] - 0s 22ms/step\n",
            "1/1 [==============================] - 0s 24ms/step\n",
            "1/1 [==============================] - 0s 21ms/step\n",
            "1/1 [==============================] - 0s 23ms/step\n",
            "1/1 [==============================] - 0s 25ms/step\n",
            "1/1 [==============================] - 0s 24ms/step\n",
            "1/1 [==============================] - 0s 24ms/step\n",
            "1/1 [==============================] - 0s 23ms/step\n",
            "1/1 [==============================] - 0s 20ms/step\n",
            "1/1 [==============================] - 0s 26ms/step\n",
            "1/1 [==============================] - 0s 22ms/step\n",
            "1/1 [==============================] - 0s 20ms/step\n",
            "1/1 [==============================] - 0s 19ms/step\n",
            "1/1 [==============================] - 0s 22ms/step\n",
            "1/1 [==============================] - 0s 22ms/step\n",
            "1/1 [==============================] - 0s 23ms/step\n",
            "1/1 [==============================] - 0s 23ms/step\n",
            "1/1 [==============================] - 0s 20ms/step\n",
            "1/1 [==============================] - 0s 22ms/step\n",
            "1/1 [==============================] - 0s 21ms/step\n",
            "1/1 [==============================] - 0s 20ms/step\n",
            "1/1 [==============================] - 0s 20ms/step\n",
            "1/1 [==============================] - 0s 20ms/step\n",
            "1/1 [==============================] - 0s 21ms/step\n",
            "1/1 [==============================] - 0s 22ms/step\n",
            "1/1 [==============================] - 0s 20ms/step\n",
            "1/1 [==============================] - 0s 22ms/step\n",
            "1/1 [==============================] - 0s 22ms/step\n",
            "1/1 [==============================] - 0s 20ms/step\n",
            "1/1 [==============================] - 0s 22ms/step\n",
            "1/1 [==============================] - 0s 21ms/step\n",
            "1/1 [==============================] - 0s 21ms/step\n",
            "1/1 [==============================] - 0s 20ms/step\n",
            "1/1 [==============================] - 0s 20ms/step\n",
            "1/1 [==============================] - 0s 21ms/step\n",
            "1/1 [==============================] - 0s 25ms/step\n",
            "1/1 [==============================] - 0s 20ms/step\n",
            "1/1 [==============================] - 0s 22ms/step\n",
            "1/1 [==============================] - 0s 20ms/step\n",
            "1/1 [==============================] - 0s 19ms/step\n",
            "1/1 [==============================] - 0s 20ms/step\n",
            "1/1 [==============================] - 0s 19ms/step\n",
            "1/1 [==============================] - 0s 26ms/step\n",
            "1/1 [==============================] - 0s 23ms/step\n",
            "1/1 [==============================] - 0s 20ms/step\n",
            "1/1 [==============================] - 0s 22ms/step\n",
            "1/1 [==============================] - 0s 21ms/step\n",
            "1/1 [==============================] - 0s 20ms/step\n",
            "1/1 [==============================] - 0s 19ms/step\n",
            "1/1 [==============================] - 0s 19ms/step\n",
            "1/1 [==============================] - 0s 20ms/step\n",
            "1/1 [==============================] - 0s 20ms/step\n",
            "1/1 [==============================] - 0s 24ms/step\n",
            "1/1 [==============================] - 0s 20ms/step\n",
            "1/1 [==============================] - 0s 21ms/step\n",
            "1/1 [==============================] - 0s 20ms/step\n",
            "1/1 [==============================] - 0s 19ms/step\n",
            "1/1 [==============================] - 0s 19ms/step\n",
            "1/1 [==============================] - 0s 21ms/step\n",
            "1/1 [==============================] - 0s 19ms/step\n",
            "1/1 [==============================] - 0s 19ms/step\n",
            "1/1 [==============================] - 0s 21ms/step\n",
            "1/1 [==============================] - 0s 22ms/step\n",
            "1/1 [==============================] - 0s 22ms/step\n",
            "1/1 [==============================] - 0s 22ms/step\n",
            "1/1 [==============================] - 0s 19ms/step\n",
            "1/1 [==============================] - 0s 20ms/step\n",
            "1/1 [==============================] - 0s 20ms/step\n",
            "1/1 [==============================] - 0s 21ms/step\n",
            "1/1 [==============================] - 0s 20ms/step\n",
            "1/1 [==============================] - 0s 19ms/step\n",
            "1/1 [==============================] - 0s 20ms/step\n",
            "1/1 [==============================] - 0s 19ms/step\n",
            "1/1 [==============================] - 0s 21ms/step\n",
            "1/1 [==============================] - 0s 20ms/step\n",
            "1/1 [==============================] - 0s 20ms/step\n",
            "1/1 [==============================] - 0s 19ms/step\n",
            "1/1 [==============================] - 0s 23ms/step\n",
            "1/1 [==============================] - 0s 20ms/step\n",
            "1/1 [==============================] - 0s 23ms/step\n",
            "im feeling chills hard through me back together still shining our dreams pick midnight dreams live and foolish voodoo apple brother edge tuviera huh brain bird mother are uncle awful keep side bags heads most control anywhere think out la fernando breaking cotton giant move single move single move kiss it mother play happen door smile familiar spell ceiling resist most beep knows explode its throwing mustve hearts company and rainy neighbor run need nights try life can be fast and me and win face it up get it up get it together to make them anywhere heads as you scream brokenhearted fuck\n"
          ]
        }
      ]
    }
  ]
}